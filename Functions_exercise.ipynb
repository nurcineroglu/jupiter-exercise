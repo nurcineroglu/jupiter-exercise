{
 "cells": [
  {
   "cell_type": "code",
   "execution_count": null,
   "metadata": {
    "id": "c47279dd",
    "outputId": "120c5f1e-63ca-44bb-b678-2d7f7940b4e6"
   },
   "outputs": [
    {
     "name": "stdout",
     "output_type": "stream",
     "text": [
      "7\n"
     ]
    }
   ],
   "source": [
    "#Q1 Write Python function that takes two inputs\n",
    "#and return their sum value\n",
    "\n",
    "def function(a,b):\n",
    "    return(a+b)\n",
    "\n",
    "c = function(3,4)\n",
    "print(c)"
   ]
  },
  {
   "cell_type": "code",
   "execution_count": null,
   "metadata": {
    "id": "2af7c7cb",
    "outputId": "1c054817-9ea4-4500-f468-8ed2c6d2594e"
   },
   "outputs": [
    {
     "name": "stdout",
     "output_type": "stream",
     "text": [
      "73.4\n"
     ]
    }
   ],
   "source": [
    "#Q2 Write Python function the takes a celsius temprature\n",
    "#and converts it into fahrenheit\n",
    "\n",
    "def fah(cel):\n",
    "    fah_v = (cel * 1.8) + 32\n",
    "    return fah_v\n",
    "\n",
    "fah_v_r=fah(23)\n",
    "print(fah_v_r)"
   ]
  },
  {
   "cell_type": "code",
   "execution_count": null,
   "metadata": {
    "id": "aa4534c6",
    "outputId": "2038aa90-ae32-46ca-9824-8c1f883b52ad"
   },
   "outputs": [
    {
     "name": "stdout",
     "output_type": "stream",
     "text": [
      "b is max\n"
     ]
    }
   ],
   "source": [
    "#Q3 Write a Python function to find the Max of three numbers\n",
    "\n",
    "def max(a,b,c):\n",
    "    if(a>b and a>c):\n",
    "        str1=\"a is max\"\n",
    "        return str1\n",
    "    elif(b>a and b>c):\n",
    "        str1=\"b is max\"\n",
    "        return str1\n",
    "    else:\n",
    "        str1=\"c is max\"\n",
    "        return str1\n",
    "    \n",
    "print(max(3,6,2))"
   ]
  },
  {
   "cell_type": "code",
   "execution_count": null,
   "metadata": {
    "id": "db76d64d",
    "outputId": "dcc97eeb-f6b0-498d-9878-2445ed6130d6"
   },
   "outputs": [
    {
     "name": "stdout",
     "output_type": "stream",
     "text": [
      "78\n",
      "The number is outside the given range.\n"
     ]
    }
   ],
   "source": [
    "#Q4 Write a Python function to check whether a number\n",
    "#is in a given range [5,12]\n",
    "\n",
    "def test_range(n):\n",
    "    i=0\n",
    "    t=int(n)\n",
    "    for n1 in range(5,12):\n",
    "        if(n1==t):\n",
    "            print( \" %s is in the range\"%str(t))\n",
    "            break;\n",
    "        else:\n",
    "            print(\"The number is outside the given range.\")\n",
    "            break;\n",
    "        \n",
    "x=input()\n",
    "test_range(x)"
   ]
  },
  {
   "cell_type": "code",
   "execution_count": 2,
   "metadata": {
    "colab": {
     "base_uri": "https://localhost:8080/"
    },
    "executionInfo": {
     "elapsed": 112,
     "status": "ok",
     "timestamp": 1647816643942,
     "user": {
      "displayName": "Kowcika Asaithambi",
      "photoUrl": "https://lh3.googleusercontent.com/a-/AOh14Gg8KrW2zvKxTwJaLS-0c-2oYOj01Rjps5s0ankY=s64",
      "userId": "17282228569468897313"
     },
     "user_tz": 240
    },
    "id": "89e0c8ca",
    "outputId": "6121faab-cf83-4745-aeba-758739d9e3a4"
   },
   "outputs": [
    {
     "name": "stdout",
     "output_type": "stream",
     "text": [
      "[1, 2, 3, 4, 5]\n"
     ]
    }
   ],
   "source": [
    "#Q5 Write a Python function that takes a list\n",
    "#and returns a new list with unique elements of the first\n",
    "#Sample_List : [1,2,3,3,3,3,4,5]\n",
    "\n",
    "def unique_list(l):\n",
    "  x = []\n",
    "  for a in l:\n",
    "    if a not in x:\n",
    "      x.append(a)\n",
    "  return x\n",
    "\n",
    "print(unique_list([1,2,3,3,3,3,4,5])) \n"
   ]
  },
  {
   "cell_type": "code",
   "execution_count": null,
   "metadata": {
    "id": "8b5bfaf5",
    "outputId": "6629dae2-240a-4506-c5bc-526c030d31a4"
   },
   "outputs": [
    {
     "name": "stdout",
     "output_type": "stream",
     "text": [
      "True\n"
     ]
    }
   ],
   "source": [
    "#Q6 Given a list of numbers, return True if first\n",
    "#and last number of a list is same\n",
    "#list1=[1,2,5,4,1]\n",
    "#list2=[5,6,3,2,1]\n",
    "#list3=[88,44,55,66,77,88]\n",
    "\n",
    "def list1(x):\n",
    "    y = len(x)\n",
    "    str1=\"False\"\n",
    "    if x[0] == x[y-1]:\n",
    "        str1=\"True\"\n",
    "    return str1\n",
    "\n",
    "print(list1([1,2,5,4,1]))\n"
   ]
  },
  {
   "cell_type": "code",
   "execution_count": null,
   "metadata": {
    "id": "cd98ce9b"
   },
   "outputs": [],
   "source": []
  }
 ],
 "metadata": {
  "colab": {
   "name": "Functions_solution.ipynb",
   "provenance": []
  },
  "kernelspec": {
   "display_name": "Python 3",
   "language": "python",
   "name": "python3"
  },
  "language_info": {
   "codemirror_mode": {
    "name": "ipython",
    "version": 3
   },
   "file_extension": ".py",
   "mimetype": "text/x-python",
   "name": "python",
   "nbconvert_exporter": "python",
   "pygments_lexer": "ipython3",
   "version": "3.8.5"
  }
 },
 "nbformat": 4,
 "nbformat_minor": 5
}
